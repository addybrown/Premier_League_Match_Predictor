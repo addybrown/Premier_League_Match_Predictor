{
 "cells": [
  {
   "cell_type": "code",
   "execution_count": 14,
   "metadata": {},
   "outputs": [],
   "source": [
    "import pandas as pd \n",
    "import numpy as np\n",
    "from bs4 import BeautifulSoup\n",
    "import requests\n",
    "from datetime import date\n",
    "import json\n",
    "import tensorflow as tf"
   ]
  },
  {
   "cell_type": "code",
   "execution_count": 15,
   "metadata": {},
   "outputs": [],
   "source": [
    "from keras.models import model_from_json"
   ]
  },
  {
   "cell_type": "code",
   "execution_count": 2,
   "metadata": {},
   "outputs": [],
   "source": [
    "url='https://pkgstore.datahub.io/sports-data/english-premier-league/season-1819_json/data/121aec954d44d69659e8da82196f0997/season-1819_json.json'\n",
    "r = requests.get(url)\n",
    "r_json=r.json()"
   ]
  },
  {
   "cell_type": "code",
   "execution_count": 3,
   "metadata": {},
   "outputs": [],
   "source": [
    "json_values=json.dumps(r_json)"
   ]
  },
  {
   "cell_type": "code",
   "execution_count": 4,
   "metadata": {},
   "outputs": [],
   "source": [
    "data=pd.read_json(json_values)"
   ]
  },
  {
   "cell_type": "code",
   "execution_count": 5,
   "metadata": {},
   "outputs": [],
   "source": [
    "data.to_csv('clean_data/latest_szn_values.csv')"
   ]
  },
  {
   "cell_type": "code",
   "execution_count": 6,
   "metadata": {},
   "outputs": [],
   "source": [
    "df=pd.read_csv(r'clean_data/latest_szn_values.csv')"
   ]
  },
  {
   "cell_type": "code",
   "execution_count": 7,
   "metadata": {},
   "outputs": [],
   "source": [
    "df.drop('Unnamed: 0',axis=1,inplace=True)"
   ]
  },
  {
   "cell_type": "code",
   "execution_count": 8,
   "metadata": {},
   "outputs": [],
   "source": [
    "old_data=pd.read_csv('clean_data/clean_data.csv')"
   ]
  },
  {
   "cell_type": "code",
   "execution_count": 9,
   "metadata": {},
   "outputs": [],
   "source": [
    "h=old_data[old_data['HomeTeam']=='Arsenal']"
   ]
  },
  {
   "cell_type": "code",
   "execution_count": 10,
   "metadata": {},
   "outputs": [],
   "source": [
    "from DataCleaning import DataCleaner"
   ]
  },
  {
   "cell_type": "code",
   "execution_count": 11,
   "metadata": {},
   "outputs": [
    {
     "name": "stderr",
     "output_type": "stream",
     "text": [
      "/home/addybrown/anaconda3/lib/python3.6/site-packages/numpy/core/fromnumeric.py:52: FutureWarning: 'argmax' is deprecated, use 'idxmax' instead. The behavior of 'argmax'\n",
      "will be corrected to return the positional maximum in the future.\n",
      "Use 'series.values.argmax' to get the position of the maximum now.\n",
      "  return getattr(obj, method)(*args, **kwds)\n"
     ]
    },
    {
     "name": "stdout",
     "output_type": "stream",
     "text": [
      "   Unnamed: 0  AC  AF  AR  AS  AST  AY        AwayTeam       Date  FTAG  \\\n",
      "0           0   5   8   0  13    4   1       Leicester 2018-08-10     1   \n",
      "1           1   4   9   0  10    1   1         Cardiff 2018-08-11     0   \n",
      "2           2   5  11   0  10    9   2  Crystal Palace 2018-08-11     2   \n",
      "3           3   5   8   0  13    4   1         Chelsea 2018-08-11     3   \n",
      "4           4   5  12   0  15    5   2       Tottenham 2018-08-11     2   \n",
      "\n",
      "    ...     Home_Shots_Target Away_Shots_Target  Home_Corners  Away_Corners  \\\n",
      "0   ...                     0                 0             0             0   \n",
      "1   ...                     0                 0             0             0   \n",
      "2   ...                     0                 0             0             0   \n",
      "3   ...                     0                 0             0             0   \n",
      "4   ...                     0                 0             0             0   \n",
      "\n",
      "   Home_Fouls  Away_Fouls  Home_Yellow  Away_Yellow  Home_Red Away_Red  \n",
      "0           0           0            0            0         0        0  \n",
      "1           0           0            0            0         0        0  \n",
      "2           0           0            0            0         0        0  \n",
      "3           0           0            0            0         0        0  \n",
      "4           0           0            0            0         0        0  \n",
      "\n",
      "[5 rows x 51 columns]\n"
     ]
    },
    {
     "name": "stderr",
     "output_type": "stream",
     "text": [
      "/mnt/c/Users/adams/OneDrive - University of Waterloo/Projects/Premier_League_Match_Predictor/DataCleaning.py:89: UserWarning: Boolean Series key will be reindexed to match DataFrame index.\n",
      "  dataframe_temp=dataframe[(dataframe['HomeTeam']==team_name) | (dataframe['AwayTeam']==team_name)][dataframe['Date']<date]\n",
      "/mnt/c/Users/adams/OneDrive - University of Waterloo/Projects/Premier_League_Match_Predictor/DataCleaning.py:93: UserWarning: Boolean Series key will be reindexed to match DataFrame index.\n",
      "  dataframe_temp=dataframe[(dataframe['HomeTeam']==team_name) | (dataframe['AwayTeam']==team_name)][dataframe['Date']<date]\n"
     ]
    }
   ],
   "source": [
    "data2=DataCleaner('clean_data/latest_szn_values.csv','clean_data/szn_2017_2018.csv')"
   ]
  },
  {
   "cell_type": "code",
   "execution_count": 16,
   "metadata": {},
   "outputs": [
    {
     "name": "stdout",
     "output_type": "stream",
     "text": [
      "Model Has Been Loaded\n"
     ]
    }
   ],
   "source": [
    "json_file=open('model.json','r')\n",
    "loaded_model_json=json_file.read()\n",
    "json_file.close()\n",
    "loaded_model=model_from_json(loaded_model_json)\n",
    "\n",
    "loaded_model.load_weights(\"model.h5\")\n",
    "print(\"Model Has Been Loaded\")"
   ]
  },
  {
   "cell_type": "code",
   "execution_count": 24,
   "metadata": {},
   "outputs": [],
   "source": [
    "x_test_real=data2[['Home_Points', 'Away_Points', 'Home_GD', 'Away_GD','G1.H.D',\n",
    "       'G1.H.L', 'G1.H.W', 'G1.A.D', 'G1.A.L', 'G1.A.W', 'G2.H.D', 'G2.H.L',\n",
    "       'G2.H.W', 'G2.A.D', 'G2.A.L', 'G2.A.W', 'G3.H.D', 'G3.H.L', 'G3.H.W',\n",
    "       'G3.A.D', 'G3.A.L', 'G3.A.W', 'Home_Shots', 'Away_Shots','Home_Red', 'Away_Red','This_Year_LP_Home',\n",
    "       'Last_Year_LP_Home', 'This_Year_LP_Away', 'Last_Year_LP_Away']]\n",
    "y_test_real=data2['FTR.numerical']"
   ]
  },
  {
   "cell_type": "code",
   "execution_count": 30,
   "metadata": {},
   "outputs": [],
   "source": [
    "predictions_real=loaded_model.predict(x_test_real)"
   ]
  },
  {
   "cell_type": "code",
   "execution_count": 31,
   "metadata": {},
   "outputs": [],
   "source": [
    "def result_mapper(result):\n",
    "    if result=='H':\n",
    "        return 2\n",
    "    elif result=='A':\n",
    "        return 1\n",
    "    else:\n",
    "        return 0"
   ]
  },
  {
   "cell_type": "code",
   "execution_count": 33,
   "metadata": {},
   "outputs": [],
   "source": [
    "def reverse_map(result):\n",
    "    if result==2:\n",
    "        return 'H'\n",
    "    elif result==1:\n",
    "        return 'A'\n",
    "    else:\n",
    "        return 'D'"
   ]
  },
  {
   "cell_type": "code",
   "execution_count": 34,
   "metadata": {},
   "outputs": [],
   "source": [
    "predict_new=[]\n",
    "for i in predictions_real:\n",
    "    predict_new.append(reverse_map(np.argmax(i)))\n",
    "real_new=[]     \n",
    "for i in y_test_real:\n",
    "    real_new.append(reverse_map(i))"
   ]
  },
  {
   "cell_type": "code",
   "execution_count": 36,
   "metadata": {},
   "outputs": [],
   "source": [
    "from sklearn.metrics import classification_report,confusion_matrix"
   ]
  },
  {
   "cell_type": "code",
   "execution_count": 38,
   "metadata": {},
   "outputs": [
    {
     "name": "stdout",
     "output_type": "stream",
     "text": [
      "             precision    recall  f1-score   support\n",
      "\n",
      "          A       0.18      0.60      0.28        30\n",
      "          D       0.36      0.18      0.24       118\n",
      "          H       0.70      0.65      0.68       156\n",
      "\n",
      "avg / total       0.52      0.46      0.47       304\n",
      "\n"
     ]
    }
   ],
   "source": [
    "print(classification_report(predict_new,real_new))"
   ]
  }
 ],
 "metadata": {
  "kernelspec": {
   "display_name": "Python 3",
   "language": "python",
   "name": "python3"
  },
  "language_info": {
   "codemirror_mode": {
    "name": "ipython",
    "version": 3
   },
   "file_extension": ".py",
   "mimetype": "text/x-python",
   "name": "python",
   "nbconvert_exporter": "python",
   "pygments_lexer": "ipython3",
   "version": "3.6.5"
  }
 },
 "nbformat": 4,
 "nbformat_minor": 2
}
