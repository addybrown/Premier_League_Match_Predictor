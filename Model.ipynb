{
 "cells": [
  {
   "cell_type": "code",
   "execution_count": 288,
   "metadata": {},
   "outputs": [],
   "source": [
    "import pandas as pd \n",
    "import numpy as np \n",
    "import seaborn as sns\n",
    "import tensorflow as tf"
   ]
  },
  {
   "cell_type": "code",
   "execution_count": 289,
   "metadata": {},
   "outputs": [],
   "source": [
    "df=pd.read_csv('clean_data/training_data.csv')"
   ]
  },
  {
   "cell_type": "code",
   "execution_count": 290,
   "metadata": {},
   "outputs": [],
   "source": [
    "df.drop('Unnamed: 0',axis=1,inplace=True)\n",
    "#train_data=df[(df['G1.H']!='0')&(df['G2.H']!='0')&(df['G3.H']!='0')&(df['G1.A']!='0')&(df['G2.A']!='0')&(df['G2.A']!='0')&(df['G3.A']!='0')]\n",
    "train_data=df\n",
    "train_data.index=range(0,len(train_data))"
   ]
  },
  {
   "cell_type": "code",
   "execution_count": 291,
   "metadata": {},
   "outputs": [],
   "source": [
    "for i in range(1,4):\n",
    "    train_data[['G0','G'+str(i)+'.H.D','G'+str(i)+'.H.L','G'+str(i)+'.H.W']]=pd.get_dummies(train_data['G'+str(i)+'.H'])\n",
    "    train_data[['G0','G'+str(i)+'.A.D','G'+str(i)+'.A.L','G'+str(i)+'.A.W']]=pd.get_dummies(train_data['G'+str(i)+'.A'])"
   ]
  },
  {
   "cell_type": "code",
   "execution_count": 292,
   "metadata": {},
   "outputs": [
    {
     "data": {
      "text/plain": [
       "Index(['Home_Points', 'Away_Points', 'Date', 'HomeTeam', 'AwayTeam', 'FTHG',\n",
       "       'FTAG', 'Home_Goals', 'Away_Goals', 'Home_Goals_Conceded',\n",
       "       'Away_Goals_Conceded', 'Form_Rating_Home', 'Form_Rating_Away',\n",
       "       'Home_Shots', 'Away_Shots', 'Home_Shots_Target', 'Away_Shots_Target',\n",
       "       'Home_Corners', 'Away_Corners', 'Home_Yellow', 'Away_Yellow',\n",
       "       'Home_Red', 'Away_Red', 'G1.H', 'G2.H', 'G3.H', 'G1.A', 'G2.A', 'G3.A',\n",
       "       'This_Year_LP_Home', 'Last_Year_LP_Home', 'This_Year_LP_Away',\n",
       "       'Last_Year_LP_Away', 'TY_Points_Home', 'TY_Points_Away',\n",
       "       'TY_Goals_Home', 'TY_Goals_Away', 'TY_Goals_Conceded_Home',\n",
       "       'TY_Goals_Conceded_Away', 'TY_Shots_Home', 'TY_Shots_Away',\n",
       "       'TY_Shots_On_Target_Home', 'TY_Shot_On_Target_Away', 'FTR', 'Home_GD',\n",
       "       'Away_GD', 'Team_Caliber_Home', 'Team_Caliber_Away', 'G0', 'G1.H.D',\n",
       "       'G1.H.L', 'G1.H.W', 'G1.A.D', 'G1.A.L', 'G1.A.W', 'G2.H.D', 'G2.H.L',\n",
       "       'G2.H.W', 'G2.A.D', 'G2.A.L', 'G2.A.W', 'G3.H.D', 'G3.H.L', 'G3.H.W',\n",
       "       'G3.A.D', 'G3.A.L', 'G3.A.W'],\n",
       "      dtype='object')"
      ]
     },
     "execution_count": 292,
     "metadata": {},
     "output_type": "execute_result"
    }
   ],
   "source": [
    "train_data.columns"
   ]
  },
  {
   "cell_type": "code",
   "execution_count": 293,
   "metadata": {},
   "outputs": [],
   "source": [
    "def result_mapper(result):\n",
    "    if result=='H':\n",
    "        return 2\n",
    "    elif result=='A':\n",
    "        return 1\n",
    "    else:\n",
    "        return 0"
   ]
  },
  {
   "cell_type": "code",
   "execution_count": 294,
   "metadata": {},
   "outputs": [],
   "source": [
    "def reverse_map(result):\n",
    "    if result==2:\n",
    "        return 'H'\n",
    "    elif result==1:\n",
    "        return 'A'\n",
    "    else:\n",
    "        return 'D'"
   ]
  },
  {
   "cell_type": "code",
   "execution_count": 295,
   "metadata": {},
   "outputs": [],
   "source": [
    "def change_result(val):\n",
    "    if val=='W':\n",
    "        return 1\n",
    "    elif val=='L':\n",
    "        return -1\n",
    "    else:\n",
    "        return 0"
   ]
  },
  {
   "cell_type": "code",
   "execution_count": 296,
   "metadata": {},
   "outputs": [],
   "source": [
    "def isDraw(val):\n",
    "    if val=='D':\n",
    "        return 1\n",
    "    else:\n",
    "        return 0"
   ]
  },
  {
   "cell_type": "code",
   "execution_count": 297,
   "metadata": {},
   "outputs": [],
   "source": [
    "train_data['FTR.numerical']=train_data['FTR'].apply(result_mapper)\n",
    "train_data['TYD']=abs(train_data['This_Year_LP_Home']-train_data['This_Year_LP_Away'])\n",
    "train_data['LYD']=abs(train_data['Last_Year_LP_Home']-train_data['Last_Year_LP_Away'])\n",
    "train_data['isDraw']=train_data['FTR'].apply(isDraw)"
   ]
  },
  {
   "cell_type": "code",
   "execution_count": 298,
   "metadata": {},
   "outputs": [],
   "source": [
    "for i in range(1,4):\n",
    "\n",
    "    train_data['G'+str(i)+'.H']=train_data['G'+str(i)+'.H'].apply(change_result)\n",
    "    train_data['G'+str(i)+'.A']=train_data['G'+str(i)+'.A'].apply(change_result)"
   ]
  },
  {
   "cell_type": "code",
   "execution_count": 299,
   "metadata": {},
   "outputs": [],
   "source": [
    "x=train_data[['Home_Points', 'Away_Points', 'Home_GD', 'Away_GD','G1.H.D',\n",
    "       'G1.H.L', 'G1.H.W', 'G1.A.D', 'G1.A.L', 'G1.A.W', 'G2.H.D', 'G2.H.L',\n",
    "       'G2.H.W', 'G2.A.D', 'G2.A.L', 'G2.A.W', 'G3.H.D', 'G3.H.L', 'G3.H.W',\n",
    "       'G3.A.D', 'G3.A.L', 'G3.A.W', 'Home_Shots', 'Away_Shots','Home_Red', 'Away_Red','This_Year_LP_Home',\n",
    "       'Last_Year_LP_Home', 'This_Year_LP_Away', 'Last_Year_LP_Away']]\n",
    "y=train_data['FTR.numerical']"
   ]
  },
  {
   "cell_type": "code",
   "execution_count": 300,
   "metadata": {},
   "outputs": [],
   "source": [
    "y=np.asarray(y).reshape(len(y),1)"
   ]
  },
  {
   "cell_type": "code",
   "execution_count": 301,
   "metadata": {},
   "outputs": [],
   "source": [
    "from sklearn.preprocessing import StandardScaler"
   ]
  },
  {
   "cell_type": "code",
   "execution_count": 302,
   "metadata": {},
   "outputs": [],
   "source": [
    "scale=StandardScaler()"
   ]
  },
  {
   "cell_type": "code",
   "execution_count": 303,
   "metadata": {},
   "outputs": [
    {
     "data": {
      "text/plain": [
       "StandardScaler(copy=True, with_mean=True, with_std=True)"
      ]
     },
     "execution_count": 303,
     "metadata": {},
     "output_type": "execute_result"
    }
   ],
   "source": [
    "scale.fit(x)"
   ]
  },
  {
   "cell_type": "code",
   "execution_count": 304,
   "metadata": {},
   "outputs": [],
   "source": [
    "scaled_data=scale.transform(x)"
   ]
  },
  {
   "cell_type": "code",
   "execution_count": 305,
   "metadata": {},
   "outputs": [],
   "source": [
    "#Y=tf.keras.utils.to_categorical(np.asarray(pd.get_dummies(y)))"
   ]
  },
  {
   "cell_type": "code",
   "execution_count": 306,
   "metadata": {},
   "outputs": [],
   "source": [
    "from sklearn.model_selection import train_test_split"
   ]
  },
  {
   "cell_type": "code",
   "execution_count": 307,
   "metadata": {},
   "outputs": [],
   "source": [
    "x_1=np.asarray(scaled_data).astype(float)\n",
    "y_1=tf.keras.utils.to_categorical(y)"
   ]
  },
  {
   "cell_type": "code",
   "execution_count": 308,
   "metadata": {},
   "outputs": [],
   "source": [
    "x_train,x_test,y_train,y_test=train_test_split(x_1,y,test_size=0.30,random_state=101)"
   ]
  },
  {
   "cell_type": "code",
   "execution_count": 309,
   "metadata": {},
   "outputs": [],
   "source": [
    "#Creating Neural Network Model, with hyper parameter tuning \n",
    "import tensorflow as tf\n",
    "from keras.models import Sequential \n",
    "from keras.layers import Dense,Dropout,LSTM,BatchNormalization\n",
    "from keras.callbacks import TensorBoard \n",
    "from keras.optimizers import adam,rmsprop,SGD\n",
    "from keras.regularizers import l1\n",
    "from tensorflow.keras.callbacks import EarlyStopping"
   ]
  },
  {
   "cell_type": "code",
   "execution_count": 310,
   "metadata": {},
   "outputs": [],
   "source": [
    "def create_model(learning_rate,num_dense_layers,num_dense_nodes,num_classes,num_features,momentum,decay):\n",
    "    \n",
    "    #create model\n",
    "    \n",
    "    model=Sequential()\n",
    "    \n",
    "    model.add(Dense(num_features,activation='relu',kernel_initializer=tf.keras.initializers.glorot_uniform(seed=None)))\n",
    "    model.add(Dropout(0.20))\n",
    "    #reg = l1(0.001)\n",
    "    \n",
    "    for i in range(num_dense_layers):\n",
    "        name='layer_dense_{0}'.format(i+1)\n",
    "        model.add(Dense(num_dense_nodes,activation='relu',name=name))\n",
    "        #model.add(Dropout(0.50))\n",
    "        \n",
    "    model.add(Dense(num_classes,activation='softmax',activity_regularizer=l1(0.01)))\n",
    "   # model.summary()\n",
    "    #Optimizer=adam(lr=learning_rate,beta_1=1,beta_2=0.999)\n",
    "    Optimizer=SGD(lr=learning_rate,momentum=momentum,decay=decay)\n",
    "    \n",
    "   \n",
    "    \n",
    "    model.compile(optimizer=Optimizer,\n",
    "                 loss='categorical_crossentropy',\n",
    "                 metrics=['accuracy'])\n",
    "    \n",
    "    return model"
   ]
  },
  {
   "cell_type": "code",
   "execution_count": 311,
   "metadata": {},
   "outputs": [],
   "source": [
    "stopping=EarlyStopping(monitor='loss',min_delta=1e-4,patience=20,verbose=1,mode='auto')"
   ]
  },
  {
   "cell_type": "code",
   "execution_count": 312,
   "metadata": {},
   "outputs": [],
   "source": [
    "model=create_model(learning_rate=0.004,num_dense_layers=4,num_dense_nodes=30,num_classes=3,num_features=len(x.columns),momentum=0.25,decay=0.0001)"
   ]
  },
  {
   "cell_type": "code",
   "execution_count": 313,
   "metadata": {
    "scrolled": true
   },
   "outputs": [
    {
     "name": "stdout",
     "output_type": "stream",
     "text": [
      "Train on 2660 samples, validate on 1140 samples\n",
      "Epoch 1/200\n",
      "2660/2660 [==============================] - 1s 385us/step - loss: 1.4036 - acc: 0.4079 - val_loss: 1.3910 - val_acc: 0.4693\n",
      "Epoch 2/200\n",
      "2660/2660 [==============================] - 0s 69us/step - loss: 1.3843 - acc: 0.4632 - val_loss: 1.3775 - val_acc: 0.4693\n",
      "Epoch 3/200\n",
      "2660/2660 [==============================] - 0s 73us/step - loss: 1.3747 - acc: 0.4658 - val_loss: 1.3694 - val_acc: 0.4693\n",
      "Epoch 4/200\n",
      "2660/2660 [==============================] - 0s 76us/step - loss: 1.3692 - acc: 0.4643 - val_loss: 1.3634 - val_acc: 0.4693\n",
      "Epoch 5/200\n",
      "2660/2660 [==============================] - 0s 78us/step - loss: 1.3628 - acc: 0.4650 - val_loss: 1.3588 - val_acc: 0.4693\n",
      "Epoch 6/200\n",
      "2660/2660 [==============================] - 0s 82us/step - loss: 1.3602 - acc: 0.4643 - val_loss: 1.3549 - val_acc: 0.4693\n",
      "Epoch 7/200\n",
      "2660/2660 [==============================] - 0s 80us/step - loss: 1.3565 - acc: 0.4643 - val_loss: 1.3511 - val_acc: 0.4693\n",
      "Epoch 8/200\n",
      "2660/2660 [==============================] - 0s 75us/step - loss: 1.3540 - acc: 0.4643 - val_loss: 1.3475 - val_acc: 0.4693\n",
      "Epoch 9/200\n",
      "2660/2660 [==============================] - 0s 88us/step - loss: 1.3469 - acc: 0.4665 - val_loss: 1.3438 - val_acc: 0.4702\n",
      "Epoch 10/200\n",
      "2660/2660 [==============================] - 0s 67us/step - loss: 1.3447 - acc: 0.4692 - val_loss: 1.3402 - val_acc: 0.4711\n",
      "Epoch 11/200\n",
      "2660/2660 [==============================] - 0s 77us/step - loss: 1.3415 - acc: 0.4703 - val_loss: 1.3365 - val_acc: 0.4728\n",
      "Epoch 12/200\n",
      "2660/2660 [==============================] - 0s 76us/step - loss: 1.3350 - acc: 0.4771 - val_loss: 1.3328 - val_acc: 0.4816\n",
      "Epoch 13/200\n",
      "2660/2660 [==============================] - 0s 70us/step - loss: 1.3329 - acc: 0.4823 - val_loss: 1.3295 - val_acc: 0.4930\n",
      "Epoch 14/200\n",
      "2660/2660 [==============================] - 0s 69us/step - loss: 1.3321 - acc: 0.4902 - val_loss: 1.3266 - val_acc: 0.4991\n",
      "Epoch 15/200\n",
      "2660/2660 [==============================] - 0s 87us/step - loss: 1.3263 - acc: 0.5008 - val_loss: 1.3234 - val_acc: 0.5009\n",
      "Epoch 16/200\n",
      "2660/2660 [==============================] - 0s 106us/step - loss: 1.3265 - acc: 0.5034 - val_loss: 1.3207 - val_acc: 0.5114\n",
      "Epoch 17/200\n",
      "2660/2660 [==============================] - 0s 107us/step - loss: 1.3205 - acc: 0.5128 - val_loss: 1.3182 - val_acc: 0.5158\n",
      "Epoch 18/200\n",
      "2660/2660 [==============================] - 0s 94us/step - loss: 1.3168 - acc: 0.5083 - val_loss: 1.3160 - val_acc: 0.5175\n",
      "Epoch 19/200\n",
      "2660/2660 [==============================] - 0s 95us/step - loss: 1.3168 - acc: 0.5094 - val_loss: 1.3140 - val_acc: 0.5219\n",
      "Epoch 20/200\n",
      "2660/2660 [==============================] - 0s 84us/step - loss: 1.3181 - acc: 0.5128 - val_loss: 1.3127 - val_acc: 0.5219\n",
      "Epoch 21/200\n",
      "2660/2660 [==============================] - 0s 84us/step - loss: 1.3088 - acc: 0.5244 - val_loss: 1.3112 - val_acc: 0.5237\n",
      "Epoch 22/200\n",
      "2660/2660 [==============================] - 0s 96us/step - loss: 1.3110 - acc: 0.5207 - val_loss: 1.3101 - val_acc: 0.5219\n",
      "Epoch 23/200\n",
      "2660/2660 [==============================] - 0s 84us/step - loss: 1.3125 - acc: 0.5158 - val_loss: 1.3092 - val_acc: 0.5237\n",
      "Epoch 24/200\n",
      "2660/2660 [==============================] - 0s 85us/step - loss: 1.3105 - acc: 0.5158 - val_loss: 1.3084 - val_acc: 0.5228\n",
      "Epoch 25/200\n",
      "2660/2660 [==============================] - 0s 97us/step - loss: 1.3057 - acc: 0.5271 - val_loss: 1.3078 - val_acc: 0.5237\n",
      "Epoch 26/200\n",
      "2660/2660 [==============================] - 0s 78us/step - loss: 1.3062 - acc: 0.5241 - val_loss: 1.3073 - val_acc: 0.5254\n",
      "Epoch 27/200\n",
      "2660/2660 [==============================] - 0s 88us/step - loss: 1.3037 - acc: 0.5271 - val_loss: 1.3067 - val_acc: 0.5263\n",
      "Epoch 28/200\n",
      "2660/2660 [==============================] - 0s 132us/step - loss: 1.3065 - acc: 0.5214 - val_loss: 1.3062 - val_acc: 0.5237\n",
      "Epoch 29/200\n",
      "2660/2660 [==============================] - 0s 116us/step - loss: 1.2973 - acc: 0.5256 - val_loss: 1.3058 - val_acc: 0.5228\n",
      "Epoch 30/200\n",
      "2660/2660 [==============================] - 0s 80us/step - loss: 1.2995 - acc: 0.5233 - val_loss: 1.3052 - val_acc: 0.5228\n",
      "Epoch 31/200\n",
      "2660/2660 [==============================] - 0s 87us/step - loss: 1.3004 - acc: 0.5286 - val_loss: 1.3047 - val_acc: 0.5219\n",
      "Epoch 32/200\n",
      "2660/2660 [==============================] - 0s 88us/step - loss: 1.2992 - acc: 0.5297 - val_loss: 1.3044 - val_acc: 0.5228\n",
      "Epoch 33/200\n",
      "2660/2660 [==============================] - 0s 102us/step - loss: 1.3004 - acc: 0.5312 - val_loss: 1.3040 - val_acc: 0.5228\n",
      "Epoch 34/200\n",
      "2660/2660 [==============================] - 0s 111us/step - loss: 1.3022 - acc: 0.5199 - val_loss: 1.3035 - val_acc: 0.5237\n",
      "Epoch 35/200\n",
      "2660/2660 [==============================] - 0s 89us/step - loss: 1.3018 - acc: 0.5301 - val_loss: 1.3033 - val_acc: 0.5246\n",
      "Epoch 36/200\n",
      "2660/2660 [==============================] - 0s 88us/step - loss: 1.2961 - acc: 0.5271 - val_loss: 1.3028 - val_acc: 0.5246\n",
      "Epoch 37/200\n",
      "2660/2660 [==============================] - 0s 110us/step - loss: 1.2985 - acc: 0.5271 - val_loss: 1.3024 - val_acc: 0.5254\n",
      "Epoch 38/200\n",
      "2660/2660 [==============================] - 0s 123us/step - loss: 1.3007 - acc: 0.5248 - val_loss: 1.3021 - val_acc: 0.5246\n",
      "Epoch 39/200\n",
      "2660/2660 [==============================] - 0s 104us/step - loss: 1.2947 - acc: 0.5278 - val_loss: 1.3017 - val_acc: 0.5263\n",
      "Epoch 40/200\n",
      "2660/2660 [==============================] - 0s 91us/step - loss: 1.2934 - acc: 0.5297 - val_loss: 1.3015 - val_acc: 0.5272\n",
      "Epoch 41/200\n",
      "2660/2660 [==============================] - 0s 97us/step - loss: 1.2960 - acc: 0.5320 - val_loss: 1.3013 - val_acc: 0.5281\n",
      "Epoch 42/200\n",
      "2660/2660 [==============================] - 0s 96us/step - loss: 1.2952 - acc: 0.5297 - val_loss: 1.3011 - val_acc: 0.5289\n",
      "Epoch 43/200\n",
      "2660/2660 [==============================] - 0s 95us/step - loss: 1.2957 - acc: 0.5241 - val_loss: 1.3009 - val_acc: 0.5289\n",
      "Epoch 44/200\n",
      "2660/2660 [==============================] - 0s 99us/step - loss: 1.2960 - acc: 0.5289 - val_loss: 1.3006 - val_acc: 0.5289\n",
      "Epoch 45/200\n",
      "2660/2660 [==============================] - 0s 98us/step - loss: 1.2973 - acc: 0.5282 - val_loss: 1.3003 - val_acc: 0.5298\n",
      "Epoch 46/200\n",
      "2660/2660 [==============================] - 0s 97us/step - loss: 1.2916 - acc: 0.5342 - val_loss: 1.3003 - val_acc: 0.5289\n",
      "Epoch 47/200\n",
      "2660/2660 [==============================] - 0s 98us/step - loss: 1.2890 - acc: 0.5305 - val_loss: 1.3002 - val_acc: 0.5289\n",
      "Epoch 48/200\n",
      "2660/2660 [==============================] - 0s 97us/step - loss: 1.2929 - acc: 0.5338 - val_loss: 1.3000 - val_acc: 0.5298\n",
      "Epoch 49/200\n",
      "2660/2660 [==============================] - 0s 120us/step - loss: 1.2932 - acc: 0.5331 - val_loss: 1.2997 - val_acc: 0.5289\n",
      "Epoch 50/200\n",
      "2660/2660 [==============================] - 0s 107us/step - loss: 1.2921 - acc: 0.5267 - val_loss: 1.2995 - val_acc: 0.5289\n",
      "Epoch 51/200\n",
      "2660/2660 [==============================] - 0s 110us/step - loss: 1.2913 - acc: 0.5335 - val_loss: 1.2994 - val_acc: 0.5298\n",
      "Epoch 52/200\n",
      "2660/2660 [==============================] - 0s 87us/step - loss: 1.2856 - acc: 0.5391 - val_loss: 1.2992 - val_acc: 0.5298\n",
      "Epoch 53/200\n",
      "2660/2660 [==============================] - 0s 85us/step - loss: 1.2929 - acc: 0.5286 - val_loss: 1.2991 - val_acc: 0.5298\n",
      "Epoch 54/200\n",
      "2660/2660 [==============================] - 0s 87us/step - loss: 1.2935 - acc: 0.5350 - val_loss: 1.2990 - val_acc: 0.5298\n",
      "Epoch 55/200\n",
      "2660/2660 [==============================] - 0s 81us/step - loss: 1.2905 - acc: 0.5342 - val_loss: 1.2988 - val_acc: 0.5298\n",
      "Epoch 56/200\n",
      "2660/2660 [==============================] - 0s 92us/step - loss: 1.2937 - acc: 0.5256 - val_loss: 1.2986 - val_acc: 0.5281\n",
      "Epoch 57/200\n",
      "2660/2660 [==============================] - 0s 66us/step - loss: 1.2907 - acc: 0.5316 - val_loss: 1.2985 - val_acc: 0.5289\n",
      "Epoch 58/200\n",
      "2660/2660 [==============================] - 0s 88us/step - loss: 1.2911 - acc: 0.5361 - val_loss: 1.2983 - val_acc: 0.5289\n",
      "Epoch 59/200\n",
      "2660/2660 [==============================] - 0s 93us/step - loss: 1.2870 - acc: 0.5380 - val_loss: 1.2983 - val_acc: 0.5298\n",
      "Epoch 60/200\n"
     ]
    },
    {
     "name": "stdout",
     "output_type": "stream",
     "text": [
      "2660/2660 [==============================] - 0s 80us/step - loss: 1.2933 - acc: 0.5297 - val_loss: 1.2980 - val_acc: 0.5298\n",
      "Epoch 61/200\n",
      "2660/2660 [==============================] - 0s 68us/step - loss: 1.2857 - acc: 0.5357 - val_loss: 1.2981 - val_acc: 0.5316\n",
      "Epoch 62/200\n",
      "2660/2660 [==============================] - 0s 86us/step - loss: 1.2854 - acc: 0.5376 - val_loss: 1.2979 - val_acc: 0.5281\n",
      "Epoch 63/200\n",
      "2660/2660 [==============================] - 0s 87us/step - loss: 1.2884 - acc: 0.5380 - val_loss: 1.2978 - val_acc: 0.5289\n",
      "Epoch 64/200\n",
      "2660/2660 [==============================] - 0s 107us/step - loss: 1.2883 - acc: 0.5305 - val_loss: 1.2976 - val_acc: 0.5289\n",
      "Epoch 65/200\n",
      "2660/2660 [==============================] - 0s 98us/step - loss: 1.2896 - acc: 0.5350 - val_loss: 1.2974 - val_acc: 0.5281\n",
      "Epoch 66/200\n",
      "2660/2660 [==============================] - 0s 99us/step - loss: 1.2836 - acc: 0.5357 - val_loss: 1.2975 - val_acc: 0.5272\n",
      "Epoch 67/200\n",
      "2660/2660 [==============================] - 0s 77us/step - loss: 1.2896 - acc: 0.5293 - val_loss: 1.2973 - val_acc: 0.5289\n",
      "Epoch 68/200\n",
      "2660/2660 [==============================] - 0s 94us/step - loss: 1.2872 - acc: 0.5308 - val_loss: 1.2971 - val_acc: 0.5298\n",
      "Epoch 69/200\n",
      "2660/2660 [==============================] - 0s 105us/step - loss: 1.2878 - acc: 0.5335 - val_loss: 1.2970 - val_acc: 0.5298\n",
      "Epoch 70/200\n",
      "2660/2660 [==============================] - 0s 83us/step - loss: 1.2827 - acc: 0.5406 - val_loss: 1.2971 - val_acc: 0.5289\n",
      "Epoch 71/200\n",
      "2660/2660 [==============================] - 0s 80us/step - loss: 1.2867 - acc: 0.5308 - val_loss: 1.2969 - val_acc: 0.5281\n",
      "Epoch 72/200\n",
      "2660/2660 [==============================] - 0s 83us/step - loss: 1.2844 - acc: 0.5402 - val_loss: 1.2969 - val_acc: 0.5281\n",
      "Epoch 73/200\n",
      "2660/2660 [==============================] - 0s 121us/step - loss: 1.2839 - acc: 0.5414 - val_loss: 1.2968 - val_acc: 0.5281\n",
      "Epoch 74/200\n",
      "2660/2660 [==============================] - 0s 97us/step - loss: 1.2864 - acc: 0.5376 - val_loss: 1.2967 - val_acc: 0.5289\n",
      "Epoch 75/200\n",
      "2660/2660 [==============================] - 0s 109us/step - loss: 1.2868 - acc: 0.5331 - val_loss: 1.2964 - val_acc: 0.5281\n",
      "Epoch 76/200\n",
      "2660/2660 [==============================] - 0s 88us/step - loss: 1.2865 - acc: 0.5323 - val_loss: 1.2962 - val_acc: 0.5289\n",
      "Epoch 77/200\n",
      "2660/2660 [==============================] - 0s 106us/step - loss: 1.2845 - acc: 0.5361 - val_loss: 1.2962 - val_acc: 0.5289\n",
      "Epoch 78/200\n",
      "2660/2660 [==============================] - 0s 102us/step - loss: 1.2832 - acc: 0.5368 - val_loss: 1.2962 - val_acc: 0.5307\n",
      "Epoch 79/200\n",
      "2660/2660 [==============================] - 0s 106us/step - loss: 1.2866 - acc: 0.5368 - val_loss: 1.2961 - val_acc: 0.5307\n",
      "Epoch 80/200\n",
      "2660/2660 [==============================] - 0s 115us/step - loss: 1.2868 - acc: 0.5342 - val_loss: 1.2961 - val_acc: 0.5298\n",
      "Epoch 81/200\n",
      "2660/2660 [==============================] - 0s 104us/step - loss: 1.2865 - acc: 0.5391 - val_loss: 1.2962 - val_acc: 0.5316\n",
      "Epoch 82/200\n",
      "2660/2660 [==============================] - 0s 106us/step - loss: 1.2843 - acc: 0.5346 - val_loss: 1.2961 - val_acc: 0.5316\n",
      "Epoch 83/200\n",
      "2660/2660 [==============================] - 0s 90us/step - loss: 1.2859 - acc: 0.5391 - val_loss: 1.2961 - val_acc: 0.5325\n",
      "Epoch 84/200\n",
      "2660/2660 [==============================] - 0s 90us/step - loss: 1.2857 - acc: 0.5414 - val_loss: 1.2959 - val_acc: 0.5325\n",
      "Epoch 85/200\n",
      "2660/2660 [==============================] - 0s 93us/step - loss: 1.2862 - acc: 0.5391 - val_loss: 1.2959 - val_acc: 0.5325\n",
      "Epoch 86/200\n",
      "2660/2660 [==============================] - 0s 122us/step - loss: 1.2823 - acc: 0.5372 - val_loss: 1.2958 - val_acc: 0.5316\n",
      "Epoch 87/200\n",
      "2660/2660 [==============================] - 0s 101us/step - loss: 1.2875 - acc: 0.5335 - val_loss: 1.2956 - val_acc: 0.5325\n",
      "Epoch 88/200\n",
      "2660/2660 [==============================] - 0s 118us/step - loss: 1.2831 - acc: 0.5421 - val_loss: 1.2955 - val_acc: 0.5342\n",
      "Epoch 89/200\n",
      "2660/2660 [==============================] - 0s 89us/step - loss: 1.2818 - acc: 0.5372 - val_loss: 1.2955 - val_acc: 0.5342\n",
      "Epoch 90/200\n",
      "2660/2660 [==============================] - 0s 88us/step - loss: 1.2834 - acc: 0.5425 - val_loss: 1.2956 - val_acc: 0.5316\n",
      "Epoch 91/200\n",
      "2660/2660 [==============================] - 0s 95us/step - loss: 1.2820 - acc: 0.5368 - val_loss: 1.2956 - val_acc: 0.5325\n",
      "Epoch 92/200\n",
      "2660/2660 [==============================] - 0s 105us/step - loss: 1.2778 - acc: 0.5455 - val_loss: 1.2957 - val_acc: 0.5325\n",
      "Epoch 93/200\n",
      "2660/2660 [==============================] - 0s 120us/step - loss: 1.2839 - acc: 0.5402 - val_loss: 1.2956 - val_acc: 0.5316\n",
      "Epoch 94/200\n",
      "2660/2660 [==============================] - 0s 118us/step - loss: 1.2842 - acc: 0.5331 - val_loss: 1.2955 - val_acc: 0.5325\n",
      "Epoch 95/200\n",
      "2660/2660 [==============================] - 0s 91us/step - loss: 1.2831 - acc: 0.5391 - val_loss: 1.2955 - val_acc: 0.5307\n",
      "Epoch 96/200\n",
      "2660/2660 [==============================] - 0s 112us/step - loss: 1.2781 - acc: 0.5429 - val_loss: 1.2956 - val_acc: 0.5325\n",
      "Epoch 97/200\n",
      "2660/2660 [==============================] - 0s 94us/step - loss: 1.2827 - acc: 0.5376 - val_loss: 1.2954 - val_acc: 0.5325\n",
      "Epoch 98/200\n",
      "2660/2660 [==============================] - 0s 84us/step - loss: 1.2791 - acc: 0.5444 - val_loss: 1.2953 - val_acc: 0.5325\n",
      "Epoch 99/200\n",
      "2660/2660 [==============================] - 0s 88us/step - loss: 1.2800 - acc: 0.5380 - val_loss: 1.2952 - val_acc: 0.5333\n",
      "Epoch 100/200\n",
      "2660/2660 [==============================] - 0s 74us/step - loss: 1.2794 - acc: 0.5335 - val_loss: 1.2951 - val_acc: 0.5325\n",
      "Epoch 101/200\n",
      "2660/2660 [==============================] - 0s 83us/step - loss: 1.2814 - acc: 0.5406 - val_loss: 1.2950 - val_acc: 0.5316\n",
      "Epoch 102/200\n",
      "2660/2660 [==============================] - 0s 99us/step - loss: 1.2809 - acc: 0.5372 - val_loss: 1.2951 - val_acc: 0.5316\n",
      "Epoch 103/200\n",
      "2660/2660 [==============================] - 0s 92us/step - loss: 1.2834 - acc: 0.5338 - val_loss: 1.2949 - val_acc: 0.5316\n",
      "Epoch 104/200\n",
      "2660/2660 [==============================] - 0s 106us/step - loss: 1.2818 - acc: 0.5346 - val_loss: 1.2949 - val_acc: 0.5316\n",
      "Epoch 105/200\n",
      "2660/2660 [==============================] - 0s 100us/step - loss: 1.2794 - acc: 0.5429 - val_loss: 1.2949 - val_acc: 0.5316\n",
      "Epoch 106/200\n",
      "2660/2660 [==============================] - 0s 92us/step - loss: 1.2793 - acc: 0.5383 - val_loss: 1.2947 - val_acc: 0.5316\n",
      "Epoch 107/200\n",
      "2660/2660 [==============================] - 0s 82us/step - loss: 1.2771 - acc: 0.5410 - val_loss: 1.2948 - val_acc: 0.5325\n",
      "Epoch 108/200\n",
      "2660/2660 [==============================] - 0s 79us/step - loss: 1.2811 - acc: 0.5410 - val_loss: 1.2948 - val_acc: 0.5316\n",
      "Epoch 109/200\n",
      "2660/2660 [==============================] - 0s 72us/step - loss: 1.2781 - acc: 0.5421 - val_loss: 1.2947 - val_acc: 0.5325\n",
      "Epoch 110/200\n",
      "2660/2660 [==============================] - 0s 84us/step - loss: 1.2828 - acc: 0.5380 - val_loss: 1.2946 - val_acc: 0.5333\n",
      "Epoch 111/200\n",
      "2660/2660 [==============================] - 0s 106us/step - loss: 1.2782 - acc: 0.5383 - val_loss: 1.2947 - val_acc: 0.5325\n",
      "Epoch 112/200\n",
      "2660/2660 [==============================] - 0s 78us/step - loss: 1.2770 - acc: 0.5365 - val_loss: 1.2947 - val_acc: 0.5333\n",
      "Epoch 113/200\n",
      "2660/2660 [==============================] - 0s 79us/step - loss: 1.2770 - acc: 0.5372 - val_loss: 1.2947 - val_acc: 0.5325\n",
      "Epoch 114/200\n",
      "2660/2660 [==============================] - 0s 62us/step - loss: 1.2786 - acc: 0.5432 - val_loss: 1.2946 - val_acc: 0.5325\n",
      "Epoch 115/200\n",
      "2660/2660 [==============================] - 0s 104us/step - loss: 1.2763 - acc: 0.5459 - val_loss: 1.2947 - val_acc: 0.5333\n",
      "Epoch 116/200\n",
      "2660/2660 [==============================] - 0s 86us/step - loss: 1.2754 - acc: 0.5451 - val_loss: 1.2947 - val_acc: 0.5325\n",
      "Epoch 117/200\n",
      "2660/2660 [==============================] - 0s 94us/step - loss: 1.2786 - acc: 0.5432 - val_loss: 1.2946 - val_acc: 0.5333\n",
      "Epoch 118/200\n",
      "2660/2660 [==============================] - 0s 75us/step - loss: 1.2813 - acc: 0.5414 - val_loss: 1.2946 - val_acc: 0.5333\n",
      "Epoch 119/200\n"
     ]
    },
    {
     "name": "stdout",
     "output_type": "stream",
     "text": [
      "2660/2660 [==============================] - 0s 84us/step - loss: 1.2737 - acc: 0.5387 - val_loss: 1.2947 - val_acc: 0.5342\n",
      "Epoch 120/200\n",
      "2660/2660 [==============================] - 0s 105us/step - loss: 1.2794 - acc: 0.5365 - val_loss: 1.2946 - val_acc: 0.5342\n",
      "Epoch 121/200\n",
      "2660/2660 [==============================] - 0s 104us/step - loss: 1.2783 - acc: 0.5421 - val_loss: 1.2945 - val_acc: 0.5342\n",
      "Epoch 122/200\n",
      "2660/2660 [==============================] - 0s 107us/step - loss: 1.2780 - acc: 0.5414 - val_loss: 1.2945 - val_acc: 0.5342\n",
      "Epoch 123/200\n",
      "2660/2660 [==============================] - 0s 107us/step - loss: 1.2797 - acc: 0.5376 - val_loss: 1.2944 - val_acc: 0.5342\n",
      "Epoch 124/200\n",
      "2660/2660 [==============================] - 0s 104us/step - loss: 1.2788 - acc: 0.5410 - val_loss: 1.2944 - val_acc: 0.5342\n",
      "Epoch 125/200\n",
      "2660/2660 [==============================] - 0s 110us/step - loss: 1.2795 - acc: 0.5372 - val_loss: 1.2945 - val_acc: 0.5342\n",
      "Epoch 126/200\n",
      "2660/2660 [==============================] - 0s 82us/step - loss: 1.2815 - acc: 0.5380 - val_loss: 1.2944 - val_acc: 0.5333\n",
      "Epoch 127/200\n",
      "2660/2660 [==============================] - 0s 75us/step - loss: 1.2780 - acc: 0.5421 - val_loss: 1.2944 - val_acc: 0.5333\n",
      "Epoch 128/200\n",
      "2660/2660 [==============================] - 0s 77us/step - loss: 1.2735 - acc: 0.5485 - val_loss: 1.2944 - val_acc: 0.5333\n",
      "Epoch 129/200\n",
      "2660/2660 [==============================] - 0s 98us/step - loss: 1.2786 - acc: 0.5417 - val_loss: 1.2945 - val_acc: 0.5333\n",
      "Epoch 130/200\n",
      "2660/2660 [==============================] - 0s 91us/step - loss: 1.2755 - acc: 0.5462 - val_loss: 1.2945 - val_acc: 0.5333\n",
      "Epoch 131/200\n",
      "2660/2660 [==============================] - 0s 97us/step - loss: 1.2774 - acc: 0.5425 - val_loss: 1.2945 - val_acc: 0.5333\n",
      "Epoch 132/200\n",
      "2660/2660 [==============================] - 0s 108us/step - loss: 1.2754 - acc: 0.5425 - val_loss: 1.2945 - val_acc: 0.5333\n",
      "Epoch 133/200\n",
      "2660/2660 [==============================] - 0s 107us/step - loss: 1.2745 - acc: 0.5402 - val_loss: 1.2945 - val_acc: 0.5342\n",
      "Epoch 134/200\n",
      "2660/2660 [==============================] - 0s 91us/step - loss: 1.2806 - acc: 0.5440 - val_loss: 1.2945 - val_acc: 0.5351\n",
      "Epoch 135/200\n",
      "2660/2660 [==============================] - 0s 79us/step - loss: 1.2725 - acc: 0.5474 - val_loss: 1.2946 - val_acc: 0.5360\n",
      "Epoch 136/200\n",
      "2660/2660 [==============================] - 0s 99us/step - loss: 1.2731 - acc: 0.5444 - val_loss: 1.2947 - val_acc: 0.5368\n",
      "Epoch 137/200\n",
      "2660/2660 [==============================] - 0s 92us/step - loss: 1.2780 - acc: 0.5361 - val_loss: 1.2946 - val_acc: 0.5360\n",
      "Epoch 138/200\n",
      "2660/2660 [==============================] - 0s 94us/step - loss: 1.2760 - acc: 0.5391 - val_loss: 1.2945 - val_acc: 0.5351\n",
      "Epoch 139/200\n",
      "2660/2660 [==============================] - 0s 86us/step - loss: 1.2760 - acc: 0.5440 - val_loss: 1.2944 - val_acc: 0.5351\n",
      "Epoch 140/200\n",
      "2660/2660 [==============================] - 0s 115us/step - loss: 1.2712 - acc: 0.5402 - val_loss: 1.2947 - val_acc: 0.5368\n",
      "Epoch 141/200\n",
      "2660/2660 [==============================] - 0s 92us/step - loss: 1.2760 - acc: 0.5410 - val_loss: 1.2945 - val_acc: 0.5342\n",
      "Epoch 142/200\n",
      "2660/2660 [==============================] - 0s 85us/step - loss: 1.2724 - acc: 0.5372 - val_loss: 1.2945 - val_acc: 0.5342\n",
      "Epoch 143/200\n",
      "2660/2660 [==============================] - 0s 71us/step - loss: 1.2747 - acc: 0.5444 - val_loss: 1.2945 - val_acc: 0.5360\n",
      "Epoch 144/200\n",
      "2660/2660 [==============================] - 0s 104us/step - loss: 1.2786 - acc: 0.5444 - val_loss: 1.2944 - val_acc: 0.5351\n",
      "Epoch 145/200\n",
      "2660/2660 [==============================] - 0s 83us/step - loss: 1.2760 - acc: 0.5395 - val_loss: 1.2943 - val_acc: 0.5351\n",
      "Epoch 146/200\n",
      "2660/2660 [==============================] - 0s 88us/step - loss: 1.2769 - acc: 0.5391 - val_loss: 1.2943 - val_acc: 0.5351\n",
      "Epoch 147/200\n",
      "2660/2660 [==============================] - 0s 103us/step - loss: 1.2747 - acc: 0.5492 - val_loss: 1.2942 - val_acc: 0.5342\n",
      "Epoch 148/200\n",
      "2660/2660 [==============================] - 0s 80us/step - loss: 1.2737 - acc: 0.5447 - val_loss: 1.2943 - val_acc: 0.5351\n",
      "Epoch 149/200\n",
      "2660/2660 [==============================] - 0s 79us/step - loss: 1.2763 - acc: 0.5357 - val_loss: 1.2945 - val_acc: 0.5351\n",
      "Epoch 150/200\n",
      "2660/2660 [==============================] - 0s 89us/step - loss: 1.2730 - acc: 0.5365 - val_loss: 1.2943 - val_acc: 0.5342\n",
      "Epoch 151/200\n",
      "2660/2660 [==============================] - 0s 98us/step - loss: 1.2735 - acc: 0.5447 - val_loss: 1.2943 - val_acc: 0.5342\n",
      "Epoch 152/200\n",
      "2660/2660 [==============================] - 0s 111us/step - loss: 1.2769 - acc: 0.5402 - val_loss: 1.2942 - val_acc: 0.5351\n",
      "Epoch 153/200\n",
      "2660/2660 [==============================] - 0s 76us/step - loss: 1.2732 - acc: 0.5444 - val_loss: 1.2943 - val_acc: 0.5342\n",
      "Epoch 154/200\n",
      "2660/2660 [==============================] - 0s 94us/step - loss: 1.2753 - acc: 0.5376 - val_loss: 1.2942 - val_acc: 0.5351\n",
      "Epoch 155/200\n",
      "2660/2660 [==============================] - 0s 97us/step - loss: 1.2799 - acc: 0.5436 - val_loss: 1.2944 - val_acc: 0.5360\n",
      "Epoch 156/200\n",
      "2660/2660 [==============================] - 0s 85us/step - loss: 1.2732 - acc: 0.5436 - val_loss: 1.2944 - val_acc: 0.5351\n",
      "Epoch 157/200\n",
      "2660/2660 [==============================] - 0s 87us/step - loss: 1.2728 - acc: 0.5451 - val_loss: 1.2942 - val_acc: 0.5351\n",
      "Epoch 158/200\n",
      "2660/2660 [==============================] - 0s 84us/step - loss: 1.2705 - acc: 0.5455 - val_loss: 1.2942 - val_acc: 0.5360\n",
      "Epoch 159/200\n",
      "2660/2660 [==============================] - 0s 66us/step - loss: 1.2720 - acc: 0.5398 - val_loss: 1.2941 - val_acc: 0.5342\n",
      "Epoch 160/200\n",
      "2660/2660 [==============================] - 0s 93us/step - loss: 1.2749 - acc: 0.5391 - val_loss: 1.2941 - val_acc: 0.5351\n",
      "Epoch 161/200\n",
      "2660/2660 [==============================] - 0s 85us/step - loss: 1.2752 - acc: 0.5410 - val_loss: 1.2942 - val_acc: 0.5351\n",
      "Epoch 162/200\n",
      "2660/2660 [==============================] - 0s 89us/step - loss: 1.2741 - acc: 0.5474 - val_loss: 1.2942 - val_acc: 0.5360\n",
      "Epoch 163/200\n",
      "2660/2660 [==============================] - 0s 90us/step - loss: 1.2722 - acc: 0.5462 - val_loss: 1.2943 - val_acc: 0.5360\n",
      "Epoch 164/200\n",
      "2660/2660 [==============================] - 0s 69us/step - loss: 1.2721 - acc: 0.5402 - val_loss: 1.2941 - val_acc: 0.5351\n",
      "Epoch 165/200\n",
      "2660/2660 [==============================] - 0s 74us/step - loss: 1.2710 - acc: 0.5474 - val_loss: 1.2939 - val_acc: 0.5333\n",
      "Epoch 166/200\n",
      "2660/2660 [==============================] - 0s 85us/step - loss: 1.2725 - acc: 0.5414 - val_loss: 1.2941 - val_acc: 0.5351\n",
      "Epoch 167/200\n",
      "2660/2660 [==============================] - 0s 92us/step - loss: 1.2731 - acc: 0.5387 - val_loss: 1.2939 - val_acc: 0.5342\n",
      "Epoch 168/200\n",
      "2660/2660 [==============================] - 0s 103us/step - loss: 1.2718 - acc: 0.5474 - val_loss: 1.2942 - val_acc: 0.5351\n",
      "Epoch 169/200\n",
      "2660/2660 [==============================] - 0s 81us/step - loss: 1.2752 - acc: 0.5353 - val_loss: 1.2940 - val_acc: 0.5360\n",
      "Epoch 170/200\n",
      "2660/2660 [==============================] - 0s 86us/step - loss: 1.2734 - acc: 0.5414 - val_loss: 1.2939 - val_acc: 0.5360\n",
      "Epoch 171/200\n",
      "2660/2660 [==============================] - 0s 100us/step - loss: 1.2718 - acc: 0.5451 - val_loss: 1.2938 - val_acc: 0.5333\n",
      "Epoch 172/200\n",
      "2660/2660 [==============================] - 0s 86us/step - loss: 1.2719 - acc: 0.5477 - val_loss: 1.2938 - val_acc: 0.5342\n",
      "Epoch 173/200\n",
      "2660/2660 [==============================] - 0s 70us/step - loss: 1.2736 - acc: 0.5508 - val_loss: 1.2939 - val_acc: 0.5342\n",
      "Epoch 174/200\n",
      "2660/2660 [==============================] - 0s 68us/step - loss: 1.2694 - acc: 0.5451 - val_loss: 1.2940 - val_acc: 0.5351\n",
      "Epoch 175/200\n",
      "2660/2660 [==============================] - 0s 82us/step - loss: 1.2727 - acc: 0.5440 - val_loss: 1.2940 - val_acc: 0.5360\n",
      "Epoch 176/200\n",
      "2660/2660 [==============================] - 0s 69us/step - loss: 1.2775 - acc: 0.5387 - val_loss: 1.2940 - val_acc: 0.5351\n",
      "Epoch 177/200\n",
      "2660/2660 [==============================] - 0s 108us/step - loss: 1.2700 - acc: 0.5425 - val_loss: 1.2940 - val_acc: 0.5351\n",
      "Epoch 178/200\n"
     ]
    },
    {
     "name": "stdout",
     "output_type": "stream",
     "text": [
      "2660/2660 [==============================] - 0s 82us/step - loss: 1.2746 - acc: 0.5444 - val_loss: 1.2940 - val_acc: 0.5351\n",
      "Epoch 179/200\n",
      "2660/2660 [==============================] - 0s 94us/step - loss: 1.2705 - acc: 0.5455 - val_loss: 1.2940 - val_acc: 0.5351\n",
      "Epoch 180/200\n",
      "2660/2660 [==============================] - 0s 96us/step - loss: 1.2731 - acc: 0.5477 - val_loss: 1.2939 - val_acc: 0.5351\n",
      "Epoch 181/200\n",
      "2660/2660 [==============================] - 0s 102us/step - loss: 1.2713 - acc: 0.5429 - val_loss: 1.2939 - val_acc: 0.5342\n",
      "Epoch 182/200\n",
      "2660/2660 [==============================] - 0s 96us/step - loss: 1.2735 - acc: 0.5455 - val_loss: 1.2939 - val_acc: 0.5351\n",
      "Epoch 183/200\n",
      "2660/2660 [==============================] - 0s 79us/step - loss: 1.2750 - acc: 0.5387 - val_loss: 1.2940 - val_acc: 0.5342\n",
      "Epoch 184/200\n",
      "2660/2660 [==============================] - 0s 98us/step - loss: 1.2740 - acc: 0.5492 - val_loss: 1.2939 - val_acc: 0.5360\n",
      "Epoch 185/200\n",
      "2660/2660 [==============================] - 0s 111us/step - loss: 1.2714 - acc: 0.5447 - val_loss: 1.2940 - val_acc: 0.5342\n",
      "Epoch 186/200\n",
      "2660/2660 [==============================] - 0s 86us/step - loss: 1.2732 - acc: 0.5440 - val_loss: 1.2941 - val_acc: 0.5351\n",
      "Epoch 187/200\n",
      "2660/2660 [==============================] - 0s 86us/step - loss: 1.2734 - acc: 0.5380 - val_loss: 1.2941 - val_acc: 0.5351\n",
      "Epoch 188/200\n",
      "2660/2660 [==============================] - 0s 106us/step - loss: 1.2772 - acc: 0.5357 - val_loss: 1.2940 - val_acc: 0.5351\n",
      "Epoch 189/200\n",
      "2660/2660 [==============================] - 0s 92us/step - loss: 1.2707 - acc: 0.5444 - val_loss: 1.2940 - val_acc: 0.5342\n",
      "Epoch 190/200\n",
      "2660/2660 [==============================] - 0s 79us/step - loss: 1.2701 - acc: 0.5444 - val_loss: 1.2939 - val_acc: 0.5342\n",
      "Epoch 191/200\n",
      "2660/2660 [==============================] - 0s 107us/step - loss: 1.2722 - acc: 0.5481 - val_loss: 1.2939 - val_acc: 0.5342\n",
      "Epoch 192/200\n",
      "2660/2660 [==============================] - 0s 74us/step - loss: 1.2759 - acc: 0.5398 - val_loss: 1.2939 - val_acc: 0.5342\n",
      "Epoch 193/200\n",
      "2660/2660 [==============================] - 0s 105us/step - loss: 1.2721 - acc: 0.5440 - val_loss: 1.2942 - val_acc: 0.5351\n",
      "Epoch 194/200\n",
      "2660/2660 [==============================] - 0s 91us/step - loss: 1.2673 - acc: 0.5489 - val_loss: 1.2943 - val_acc: 0.5342\n",
      "Epoch 195/200\n",
      "2660/2660 [==============================] - 0s 84us/step - loss: 1.2682 - acc: 0.5477 - val_loss: 1.2942 - val_acc: 0.5342\n",
      "Epoch 196/200\n",
      "2660/2660 [==============================] - 0s 108us/step - loss: 1.2716 - acc: 0.5462 - val_loss: 1.2943 - val_acc: 0.5342\n",
      "Epoch 197/200\n",
      "2660/2660 [==============================] - 0s 100us/step - loss: 1.2676 - acc: 0.5504 - val_loss: 1.2943 - val_acc: 0.5342\n",
      "Epoch 198/200\n",
      "2660/2660 [==============================] - 0s 90us/step - loss: 1.2697 - acc: 0.5436 - val_loss: 1.2944 - val_acc: 0.5351\n",
      "Epoch 199/200\n",
      "2660/2660 [==============================] - 0s 90us/step - loss: 1.2705 - acc: 0.5466 - val_loss: 1.2942 - val_acc: 0.5333\n",
      "Epoch 200/200\n",
      "2660/2660 [==============================] - 0s 79us/step - loss: 1.2680 - acc: 0.5492 - val_loss: 1.2942 - val_acc: 0.5342\n"
     ]
    },
    {
     "data": {
      "text/plain": [
       "<keras.callbacks.History at 0x7fcfdebfcac8>"
      ]
     },
     "execution_count": 313,
     "metadata": {},
     "output_type": "execute_result"
    }
   ],
   "source": [
    "model.fit(x_train,tf.keras.utils.to_categorical(y_train),validation_data=(x_test,tf.keras.utils.to_categorical(y_test)),batch_size=31,epochs=200,callbacks=[stopping])"
   ]
  },
  {
   "cell_type": "code",
   "execution_count": 372,
   "metadata": {},
   "outputs": [
    {
     "name": "stdout",
     "output_type": "stream",
     "text": [
      "Saved to disk\n"
     ]
    }
   ],
   "source": [
    "model_json=model.to_json()\n",
    "\n",
    "with open(\"model.json\",\"w\") as json_file:\n",
    "    json_file.write(model_json)\n",
    "model.save_weights(\"model.h5\")\n",
    "\n",
    "print(\"Saved to disk\")"
   ]
  },
  {
   "cell_type": "code",
   "execution_count": 314,
   "metadata": {},
   "outputs": [],
   "source": [
    "predictions=model.predict(x_test)"
   ]
  },
  {
   "cell_type": "code",
   "execution_count": 315,
   "metadata": {},
   "outputs": [],
   "source": [
    "predict=[]\n",
    "for i in predictions:\n",
    "    predict.append(reverse_map(np.argmax(i)))\n",
    "real=[]     \n",
    "for i in y_test:\n",
    "    real.append(reverse_map(i))"
   ]
  },
  {
   "cell_type": "code",
   "execution_count": null,
   "metadata": {},
   "outputs": [],
   "source": []
  },
  {
   "cell_type": "code",
   "execution_count": 316,
   "metadata": {},
   "outputs": [],
   "source": [
    "from sklearn.metrics import classification_report,confusion_matrix"
   ]
  },
  {
   "cell_type": "code",
   "execution_count": 317,
   "metadata": {},
   "outputs": [
    {
     "name": "stdout",
     "output_type": "stream",
     "text": [
      "             precision    recall  f1-score   support\n",
      "\n",
      "          A       0.51      0.51      0.51       324\n",
      "          D       0.33      0.01      0.01       281\n",
      "          H       0.55      0.83      0.66       535\n",
      "\n",
      "avg / total       0.48      0.53      0.46      1140\n",
      "\n"
     ]
    }
   ],
   "source": [
    "print(classification_report(real,predict))"
   ]
  },
  {
   "cell_type": "code",
   "execution_count": 354,
   "metadata": {},
   "outputs": [
    {
     "data": {
      "text/plain": [
       "array([[0.22028664, 0.570033  , 0.20968033],\n",
       "       [0.21354742, 0.59243834, 0.19401431],\n",
       "       [0.23883967, 0.18257914, 0.5785812 ],\n",
       "       ...,\n",
       "       [0.25518274, 0.25317338, 0.49164385],\n",
       "       [0.22485955, 0.5509195 , 0.22422096],\n",
       "       [0.29603583, 0.3057378 , 0.39822644]], dtype=float32)"
      ]
     },
     "execution_count": 354,
     "metadata": {},
     "output_type": "execute_result"
    }
   ],
   "source": [
    "predictions"
   ]
  },
  {
   "cell_type": "code",
   "execution_count": 355,
   "metadata": {},
   "outputs": [
    {
     "data": {
      "text/plain": [
       "'\\n\\nPossible Improvements:\\n\\n1.Add League Position Input (X) \\n2.Do point Totals for Each Season in EPL\\n3.Do Last Season Point Total and This Season Point Total Features (X-For League Positions)\\n\\n'"
      ]
     },
     "execution_count": 355,
     "metadata": {},
     "output_type": "execute_result"
    }
   ],
   "source": [
    "'''\n",
    "\n",
    "Possible Improvements:\n",
    "\n",
    "1.Add League Position Input (X) \n",
    "2.Do point Totals for Each Season in EPL\n",
    "3.Do Last Season Point Total and This Season Point Total Features (X-For League Positions)\n",
    "\n",
    "'''"
   ]
  },
  {
   "cell_type": "code",
   "execution_count": 356,
   "metadata": {},
   "outputs": [],
   "source": [
    "from sklearn.naive_bayes import GaussianNB"
   ]
  },
  {
   "cell_type": "code",
   "execution_count": 357,
   "metadata": {},
   "outputs": [],
   "source": [
    "gnb=GaussianNB()"
   ]
  },
  {
   "cell_type": "code",
   "execution_count": 358,
   "metadata": {},
   "outputs": [
    {
     "name": "stderr",
     "output_type": "stream",
     "text": [
      "/home/addybrown/anaconda3/lib/python3.6/site-packages/sklearn/utils/validation.py:578: DataConversionWarning: A column-vector y was passed when a 1d array was expected. Please change the shape of y to (n_samples, ), for example using ravel().\n",
      "  y = column_or_1d(y, warn=True)\n"
     ]
    },
    {
     "data": {
      "text/plain": [
       "GaussianNB(priors=None)"
      ]
     },
     "execution_count": 358,
     "metadata": {},
     "output_type": "execute_result"
    }
   ],
   "source": [
    "gnb.fit(x_train,y_train)"
   ]
  },
  {
   "cell_type": "code",
   "execution_count": 359,
   "metadata": {},
   "outputs": [],
   "source": [
    "gaussian_preds=[]\n",
    "\n",
    "for i in gnb.predict(x_test):\n",
    "    gaussian_preds.append(reverse_map(i))"
   ]
  },
  {
   "cell_type": "code",
   "execution_count": 360,
   "metadata": {},
   "outputs": [
    {
     "name": "stdout",
     "output_type": "stream",
     "text": [
      "             precision    recall  f1-score   support\n",
      "\n",
      "          A       0.52      0.46      0.49       370\n",
      "          D       0.06      0.29      0.10        55\n",
      "          H       0.74      0.55      0.63       715\n",
      "\n",
      "avg / total       0.63      0.51      0.56      1140\n",
      "\n"
     ]
    }
   ],
   "source": [
    "print(classification_report(gaussian_preds,test_results))"
   ]
  },
  {
   "cell_type": "code",
   "execution_count": 361,
   "metadata": {},
   "outputs": [
    {
     "data": {
      "text/plain": [
       "0.5087719298245614"
      ]
     },
     "execution_count": 361,
     "metadata": {},
     "output_type": "execute_result"
    }
   ],
   "source": [
    "gnb.score(x_test,y_test)"
   ]
  },
  {
   "cell_type": "code",
   "execution_count": 362,
   "metadata": {},
   "outputs": [],
   "source": [
    "from sklearn.naive_bayes import BernoulliNB"
   ]
  },
  {
   "cell_type": "code",
   "execution_count": 363,
   "metadata": {},
   "outputs": [],
   "source": [
    "bnb=BernoulliNB()"
   ]
  },
  {
   "cell_type": "code",
   "execution_count": 364,
   "metadata": {},
   "outputs": [
    {
     "name": "stderr",
     "output_type": "stream",
     "text": [
      "/home/addybrown/anaconda3/lib/python3.6/site-packages/sklearn/utils/validation.py:578: DataConversionWarning: A column-vector y was passed when a 1d array was expected. Please change the shape of y to (n_samples, ), for example using ravel().\n",
      "  y = column_or_1d(y, warn=True)\n"
     ]
    },
    {
     "data": {
      "text/plain": [
       "BernoulliNB(alpha=1.0, binarize=0.0, class_prior=None, fit_prior=True)"
      ]
     },
     "execution_count": 364,
     "metadata": {},
     "output_type": "execute_result"
    }
   ],
   "source": [
    "bnb.fit(x_train,y_train)"
   ]
  },
  {
   "cell_type": "code",
   "execution_count": 365,
   "metadata": {},
   "outputs": [
    {
     "data": {
      "text/plain": [
       "0.5131578947368421"
      ]
     },
     "execution_count": 365,
     "metadata": {},
     "output_type": "execute_result"
    }
   ],
   "source": [
    "bnb.score(x_test,y_test)"
   ]
  },
  {
   "cell_type": "code",
   "execution_count": 366,
   "metadata": {},
   "outputs": [],
   "source": [
    "test_results=[]\n",
    "for i in y_test:\n",
    "    test_results.append(reverse_map(i))"
   ]
  },
  {
   "cell_type": "code",
   "execution_count": 367,
   "metadata": {},
   "outputs": [],
   "source": [
    "bernoulli_preds=[]\n",
    "\n",
    "for i in bnb.predict(x_test):\n",
    "    bernoulli_preds.append(reverse_map(i))"
   ]
  },
  {
   "cell_type": "code",
   "execution_count": 368,
   "metadata": {},
   "outputs": [
    {
     "name": "stdout",
     "output_type": "stream",
     "text": [
      "             precision    recall  f1-score   support\n",
      "\n",
      "          A       0.56      0.46      0.50       398\n",
      "          D       0.07      0.30      0.11        64\n",
      "          H       0.72      0.57      0.63       678\n",
      "\n",
      "avg / total       0.63      0.51      0.56      1140\n",
      "\n"
     ]
    }
   ],
   "source": [
    "print(classification_report(bernoulli_preds,test_results))"
   ]
  },
  {
   "cell_type": "code",
   "execution_count": 369,
   "metadata": {},
   "outputs": [
    {
     "data": {
      "text/plain": [
       "0.5131578947368421"
      ]
     },
     "execution_count": 369,
     "metadata": {},
     "output_type": "execute_result"
    }
   ],
   "source": [
    "bnb.score(x_test,y_test)"
   ]
  }
 ],
 "metadata": {
  "kernelspec": {
   "display_name": "Python 3",
   "language": "python",
   "name": "python3"
  },
  "language_info": {
   "codemirror_mode": {
    "name": "ipython",
    "version": 3
   },
   "file_extension": ".py",
   "mimetype": "text/x-python",
   "name": "python",
   "nbconvert_exporter": "python",
   "pygments_lexer": "ipython3",
   "version": "3.6.5"
  }
 },
 "nbformat": 4,
 "nbformat_minor": 2
}
