{
 "cells": [
  {
   "cell_type": "code",
   "execution_count": 1,
   "metadata": {},
   "outputs": [],
   "source": [
    "import pandas as pd \n",
    "import numpy as np\n",
    "import os"
   ]
  },
  {
   "cell_type": "code",
   "execution_count": 2,
   "metadata": {},
   "outputs": [],
   "source": [
    "current_file = os.path.abspath(os.path.dirname('PremierLeagueSeasons'))\n",
    "csv_filename = current_file"
   ]
  },
  {
   "cell_type": "code",
   "execution_count": 3,
   "metadata": {},
   "outputs": [],
   "source": [
    "szn_2006_2007=pd.read_csv(csv_filename + '/PremierLeagueSeasons/2006_2007.csv')\n",
    "szn_2007_2008=pd.read_csv(csv_filename + '/PremierLeagueSeasons/2007_2008.csv')\n",
    "szn_2008_2009=pd.read_csv(csv_filename + '/PremierLeagueSeasons/2008_2009.csv')\n",
    "szn_2009_2010=pd.read_csv(csv_filename + '/PremierLeagueSeasons/2009_2010.csv')\n",
    "szn_2010_2011=pd.read_csv(csv_filename + '/PremierLeagueSeasons/2010_2011.csv')\n",
    "szn_2011_2012=pd.read_csv(csv_filename + '/PremierLeagueSeasons/2011_2012.csv')\n",
    "szn_2012_2013=pd.read_csv(csv_filename + '/PremierLeagueSeasons/2012_2013.csv')\n",
    "szn_2013_2014=pd.read_csv(csv_filename + '/PremierLeagueSeasons/2013_2014.csv')\n",
    "szn_2014_2015=pd.read_csv(csv_filename + '/PremierLeagueSeasons/2014_2015.csv')\n",
    "szn_2015_2016=pd.read_csv(csv_filename + '/PremierLeagueSeasons/2015_2016.csv')\n",
    "szn_2016_2017=pd.read_csv(csv_filename + '/PremierLeagueSeasons/2016_2017.csv')\n",
    "szn_2017_2018=pd.read_csv(csv_filename + '/PremierLeagueSeasons/2017_2018.csv')"
   ]
  },
  {
   "cell_type": "code",
   "execution_count": 4,
   "metadata": {},
   "outputs": [
    {
     "name": "stderr",
     "output_type": "stream",
     "text": [
      "C:\\Users\\Adam\\Anaconda3\\lib\\site-packages\\ipykernel_launcher.py:1: FutureWarning: Sorting because non-concatenation axis is not aligned. A future version\n",
      "of pandas will change to not sort by default.\n",
      "\n",
      "To accept the future behavior, pass 'sort=False'.\n",
      "\n",
      "To retain the current behavior and silence the warning, pass 'sort=True'.\n",
      "\n",
      "  \"\"\"Entry point for launching an IPython kernel.\n"
     ]
    }
   ],
   "source": [
    "Full_szn=pd.concat([szn_2006_2007, szn_2007_2008,szn_2008_2009,szn_2009_2010,szn_2010_2011,szn_2011_2012,szn_2013_2014,szn_2015_2016,szn_2016_2017,szn_2017_2018], axis=0)"
   ]
  },
  {
   "cell_type": "code",
   "execution_count": 5,
   "metadata": {},
   "outputs": [],
   "source": [
    "Full_szn=Full_szn[['Div', 'Date', 'HomeTeam', 'AwayTeam', 'FTHG', 'FTAG', 'FTR', 'HTHG',\n",
    "       'HTAG', 'HTR', 'Referee', 'HS', 'AS', 'HST', 'AST', 'HF', 'AF', 'HC',\n",
    "       'AC', 'HY', 'AY', 'HR', 'AR']]"
   ]
  },
  {
   "cell_type": "code",
   "execution_count": 7,
   "metadata": {},
   "outputs": [],
   "source": [
    "Full_szn.to_csv('clean_data/full_szn.csv')"
   ]
  },
  {
   "cell_type": "code",
   "execution_count": null,
   "metadata": {},
   "outputs": [],
   "source": []
  }
 ],
 "metadata": {
  "kernelspec": {
   "display_name": "Python 3",
   "language": "python",
   "name": "python3"
  },
  "language_info": {
   "codemirror_mode": {
    "name": "ipython",
    "version": 3
   },
   "file_extension": ".py",
   "mimetype": "text/x-python",
   "name": "python",
   "nbconvert_exporter": "python",
   "pygments_lexer": "ipython3",
   "version": "3.7.1"
  }
 },
 "nbformat": 4,
 "nbformat_minor": 2
}
